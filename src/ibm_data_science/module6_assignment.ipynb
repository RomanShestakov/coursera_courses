{
 "cells": [
  {
   "cell_type": "markdown",
   "id": "e107772e-0171-4036-b29d-22cb48c7418d",
   "metadata": {},
   "source": [
    "# "
   ]
  },
  {
   "cell_type": "markdown",
   "id": "c2a93d02-dddf-4f65-8343-1c395689eb9e",
   "metadata": {},
   "source": [
    "Module 6 graded assignment"
   ]
  },
  {
   "cell_type": "markdown",
   "id": "783a9218-49a4-46a1-9e3e-1fb2008d1151",
   "metadata": {},
   "source": [
    "Instroduction"
   ]
  },
  {
   "cell_type": "markdown",
   "id": "bd9e0eb1-3f33-459c-bcaf-7b0b0c6585fa",
   "metadata": {},
   "source": [
    "Data science languages:\n",
    "* python\n",
    "* R\n",
    "* Scala\n",
    "* c++\n",
    "* julia"
   ]
  },
  {
   "cell_type": "markdown",
   "id": "2b4b5cb7-cf62-457e-88e2-3cf31fd3bc08",
   "metadata": {},
   "source": [
    "Data science libraries:\n",
    "* pandas\n",
    "* numpy\n",
    "* matplotlib\n",
    "* seaboard\n",
    "* SciPY\n",
    "* Scikit-learn\n",
    "* TensorFlow\n",
    "* PyTorch"
   ]
  },
  {
   "cell_type": "markdown",
   "id": "d58120b2-fbaf-44e2-bff7-b6196d9dd6b4",
   "metadata": {},
   "source": [
    "Data science tools:\n",
    "| Name |\n",
    "| ----- |\n",
    "| Apache Spark|\n",
    "|Tableu|\n",
    "| SQL|\n",
    "| Apache Hadoop|\n",
    "| \n"
   ]
  },
  {
   "cell_type": "markdown",
   "id": "0a72e0ee-735c-4533-8717-9645f4cddbcc",
   "metadata": {},
   "source": [
    "Arithmetic expression example:"
   ]
  },
  {
   "cell_type": "markdown",
   "id": "2ab3be2a-47d5-453f-b66e-1c5ba5d37166",
   "metadata": {},
   "source": [
    "Addition : 2 + 3\n",
    "Multiplication: 2 * 3"
   ]
  },
  {
   "cell_type": "code",
   "execution_count": 8,
   "id": "00a27a8d-5e35-4259-aa0f-1f067d989c85",
   "metadata": {},
   "outputs": [
    {
     "data": {
      "text/plain": [
       "5"
      ]
     },
     "execution_count": 8,
     "metadata": {},
     "output_type": "execute_result"
    }
   ],
   "source": [
    "2 + 3"
   ]
  },
  {
   "cell_type": "code",
   "execution_count": 7,
   "id": "7b3c7241-97cc-4880-ab51-c85367900d6e",
   "metadata": {},
   "outputs": [
    {
     "data": {
      "text/plain": [
       "6"
      ]
     },
     "execution_count": 7,
     "metadata": {},
     "output_type": "execute_result"
    }
   ],
   "source": [
    "2 * 3"
   ]
  },
  {
   "cell_type": "code",
   "execution_count": 12,
   "id": "663a0ffd-a867-421f-a8e3-01657a9d2abf",
   "metadata": {},
   "outputs": [
    {
     "data": {
      "text/plain": [
       "2.0"
      ]
     },
     "execution_count": 12,
     "metadata": {},
     "output_type": "execute_result"
    }
   ],
   "source": [
    "# convert mins -> hours\n",
    "120 / 60"
   ]
  },
  {
   "cell_type": "markdown",
   "id": "e54e18b6-a198-47d0-8651-e61f23fc38e6",
   "metadata": {},
   "source": [
    "Objectives:\n",
    "* learn basics of data science\n",
    "* learn python\n",
    "* learn some basic tools for data analysis"
   ]
  },
  {
   "cell_type": "markdown",
   "id": "dd991f71-5c30-403f-a63a-2e7760009dc2",
   "metadata": {},
   "source": [
    "Author: Roman Shestakov"
   ]
  }
 ],
 "metadata": {
  "kernelspec": {
   "display_name": "Python [conda env:base] *",
   "language": "python",
   "name": "conda-base-py"
  },
  "language_info": {
   "codemirror_mode": {
    "name": "ipython",
    "version": 3
   },
   "file_extension": ".py",
   "mimetype": "text/x-python",
   "name": "python",
   "nbconvert_exporter": "python",
   "pygments_lexer": "ipython3",
   "version": "3.12.7"
  }
 },
 "nbformat": 4,
 "nbformat_minor": 5
}
